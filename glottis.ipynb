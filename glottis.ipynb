{
 "cells": [
  {
   "cell_type": "code",
   "execution_count": 1,
   "id": "94b980a2",
   "metadata": {},
   "outputs": [],
   "source": [
    "import os\n",
    "import json\n",
    "import numpy as np\n",
    "\n",
    "import matplotlib.pyplot as plt"
   ]
  },
  {
   "cell_type": "markdown",
   "id": "394bd8d1",
   "metadata": {},
   "source": [
    "# BAGLS dataset"
   ]
  },
  {
   "cell_type": "code",
   "execution_count": 4,
   "id": "caf64db9",
   "metadata": {},
   "outputs": [],
   "source": [
    "path = \"Mini_BAGLS_dataset\"  # you can use the Mini_BAGLS_dataset that we have provided for the homework"
   ]
  },
  {
   "cell_type": "code",
   "execution_count": 5,
   "id": "e4cffe71",
   "metadata": {},
   "outputs": [
    {
     "name": "stdout",
     "output_type": "stream",
     "text": [
      "<class 'list'>\n",
      "['0.meta', '0.png', '0_seg.png', '1.meta', '1.png', '10.meta', '10.png', '10_seg.png', '11.meta', '11.png', '11_seg.png', '12.meta', '12.png', '12_seg.png', '13.meta', '13.png', '13_seg.png', '14.meta', '14.png', '14_seg.png', '15.meta', '15.png', '15_seg.png', '16.meta', '16.png', '16_seg.png', '17.meta', '17.png', '17_seg.png', '18.meta', '18.png', '18_seg.png', '19.meta', '19.png', '19_seg.png', '1_seg.png', '2.meta', '2.png', '20.meta', '20.png', '20_seg.png', '21.meta', '21.png', '21_seg.png', '22.meta', '22.png', '22_seg.png', '23.meta', '23.png', '23_seg.png', '24.meta', '24.png', '24_seg.png', '25.meta', '25.png', '25_seg.png', '26.meta', '26.png', '26_seg.png', '27.meta', '27.png', '27_seg.png', '28.meta', '28.png', '28_seg.png', '29.meta', '29.png', '29_seg.png', '2_seg.png', '3.meta', '3.png', '30.meta', '30.png', '30_seg.png', '31.meta', '31.png', '31_seg.png', '32.meta', '32.png', '32_seg.png', '33.meta', '33.png', '33_seg.png', '34.meta', '34.png', '34_seg.png', '35.meta', '35.png', '35_seg.png', '36.meta', '36.png', '36_seg.png', '37.meta', '37.png', '37_seg.png', '38.meta', '38.png', '38_seg.png', '39.meta', '39.png', '39_seg.png', '3_seg.png', '4.meta', '4.png', '40.meta', '40.png', '40_seg.png', '41.meta', '41.png', '41_seg.png', '42.meta', '42.png', '42_seg.png', '43.meta', '43.png', '43_seg.png', '44.meta', '44.png', '44_seg.png', '45.meta', '45.png', '45_seg.png', '46.meta', '46.png', '46_seg.png', '47.meta', '47.png', '47_seg.png', '48.meta', '48.png', '48_seg.png', '49.meta', '49.png', '49_seg.png', '4_seg.png', '5.meta', '5.png', '50.meta', '50.png', '50_seg.png', '51.meta', '51.png', '51_seg.png', '52.meta', '52.png', '52_seg.png', '53.meta', '53.png', '53_seg.png', '54.meta', '54.png', '54_seg.png', '55.meta', '55.png', '55_seg.png', '56.meta', '56.png', '56_seg.png', '57.meta', '57.png', '57_seg.png', '58.meta', '58.png', '58_seg.png', '59.meta', '59.png', '59_seg.png', '5_seg.png', '6.meta', '6.png', '60.meta', '60.png', '60_seg.png', '61.meta', '61.png', '61_seg.png', '62.meta', '62.png', '62_seg.png', '63.meta', '63.png', '63_seg.png', '64.meta', '64.png', '64_seg.png', '65.meta', '65.png', '65_seg.png', '66.meta', '66.png', '66_seg.png', '67.meta', '67.png', '67_seg.png', '68.meta', '68.png', '68_seg.png', '69.meta', '69.png', '69_seg.png', '6_seg.png', '7.meta', '7.png', '70.meta', '70.png', '70_seg.png', '71.meta', '71.png', '71_seg.png', '72.meta', '72.png', '72_seg.png', '73.meta', '73.png', '73_seg.png', '74.meta', '74.png', '74_seg.png', '75.meta', '75.png', '75_seg.png', '76.meta', '76.png', '76_seg.png', '77.meta', '77.png', '77_seg.png', '78.meta', '78.png', '78_seg.png', '79.meta', '79.png', '79_seg.png', '7_seg.png', '8.meta', '8.png', '80.meta', '80.png', '80_seg.png', '81.meta', '81.png', '81_seg.png', '82.meta', '82.png', '82_seg.png', '83.meta', '83.png', '83_seg.png', '84.meta', '84.png', '84_seg.png', '85.meta', '85.png', '85_seg.png', '86.meta', '86.png', '86_seg.png', '87.meta', '87.png', '87_seg.png', '88.meta', '88.png', '88_seg.png', '89.meta', '89.png', '89_seg.png', '8_seg.png', '9.meta', '9.png', '90.meta', '90.png', '90_seg.png', '91.meta', '91.png', '91_seg.png', '92.meta', '92.png', '92_seg.png', '93.meta', '93.png', '93_seg.png', '94.meta', '94.png', '94_seg.png', '95.meta', '95.png', '95_seg.png', '96.meta', '96.png', '96_seg.png', '97.meta', '97.png', '97_seg.png', '98.meta', '98.png', '98_seg.png', '99.meta', '99.png', '99_seg.png', '9_seg.png', 'test.png']\n"
     ]
    }
   ],
   "source": [
    "# get all filenames\n",
    "files = os.listdir(path)\n",
    "\n",
    "# what is os.listdir() returning?\n",
    "# type ==> list()\n",
    "print(type(files))\n",
    "\n",
    "print(files)"
   ]
  },
  {
   "cell_type": "code",
   "execution_count": 6,
   "id": "6373c4f7",
   "metadata": {},
   "outputs": [
    {
     "data": {
      "text/plain": [
       "WindowsPath('Mini_BAGLS_dataset')"
      ]
     },
     "execution_count": 6,
     "metadata": {},
     "output_type": "execute_result"
    }
   ],
   "source": [
    "# pathlib is a nice library to work with paths\n",
    "from pathlib import Path\n",
    "path_pathlib = Path(path)\n",
    "path_pathlib"
   ]
  },
  {
   "cell_type": "code",
   "execution_count": 7,
   "id": "dd3fc409",
   "metadata": {},
   "outputs": [
    {
     "name": "stdout",
     "output_type": "stream",
     "text": [
      "0.meta\n",
      "0.png\n",
      "0_seg.png\n",
      "1.meta\n",
      "1.png\n",
      "10.meta\n",
      "10.png\n",
      "10_seg.png\n",
      "11.meta\n",
      "11.png\n",
      "11_seg.png\n",
      "12.meta\n",
      "12.png\n",
      "12_seg.png\n",
      "13.meta\n",
      "13.png\n",
      "13_seg.png\n",
      "14.meta\n",
      "14.png\n",
      "14_seg.png\n",
      "15.meta\n",
      "15.png\n",
      "15_seg.png\n",
      "16.meta\n",
      "16.png\n",
      "16_seg.png\n",
      "17.meta\n",
      "17.png\n",
      "17_seg.png\n",
      "18.meta\n",
      "18.png\n",
      "18_seg.png\n",
      "19.meta\n",
      "19.png\n",
      "19_seg.png\n",
      "1_seg.png\n",
      "2.meta\n",
      "2.png\n",
      "20.meta\n",
      "20.png\n",
      "20_seg.png\n",
      "21.meta\n",
      "21.png\n",
      "21_seg.png\n",
      "22.meta\n",
      "22.png\n",
      "22_seg.png\n",
      "23.meta\n",
      "23.png\n",
      "23_seg.png\n",
      "24.meta\n",
      "24.png\n",
      "24_seg.png\n",
      "25.meta\n",
      "25.png\n",
      "25_seg.png\n",
      "26.meta\n",
      "26.png\n",
      "26_seg.png\n",
      "27.meta\n",
      "27.png\n",
      "27_seg.png\n",
      "28.meta\n",
      "28.png\n",
      "28_seg.png\n",
      "29.meta\n",
      "29.png\n",
      "29_seg.png\n",
      "2_seg.png\n",
      "3.meta\n",
      "3.png\n",
      "30.meta\n",
      "30.png\n",
      "30_seg.png\n",
      "31.meta\n",
      "31.png\n",
      "31_seg.png\n",
      "32.meta\n",
      "32.png\n",
      "32_seg.png\n",
      "33.meta\n",
      "33.png\n",
      "33_seg.png\n",
      "34.meta\n",
      "34.png\n",
      "34_seg.png\n",
      "35.meta\n",
      "35.png\n",
      "35_seg.png\n",
      "36.meta\n",
      "36.png\n",
      "36_seg.png\n",
      "37.meta\n",
      "37.png\n",
      "37_seg.png\n",
      "38.meta\n",
      "38.png\n",
      "38_seg.png\n",
      "39.meta\n",
      "39.png\n",
      "39_seg.png\n",
      "3_seg.png\n",
      "4.meta\n",
      "4.png\n",
      "40.meta\n",
      "40.png\n",
      "40_seg.png\n",
      "41.meta\n",
      "41.png\n",
      "41_seg.png\n",
      "42.meta\n",
      "42.png\n",
      "42_seg.png\n",
      "43.meta\n",
      "43.png\n",
      "43_seg.png\n",
      "44.meta\n",
      "44.png\n",
      "44_seg.png\n",
      "45.meta\n",
      "45.png\n",
      "45_seg.png\n",
      "46.meta\n",
      "46.png\n",
      "46_seg.png\n",
      "47.meta\n",
      "47.png\n",
      "47_seg.png\n",
      "48.meta\n",
      "48.png\n",
      "48_seg.png\n",
      "49.meta\n",
      "49.png\n",
      "49_seg.png\n",
      "4_seg.png\n",
      "5.meta\n",
      "5.png\n",
      "50.meta\n",
      "50.png\n",
      "50_seg.png\n",
      "51.meta\n",
      "51.png\n",
      "51_seg.png\n",
      "52.meta\n",
      "52.png\n",
      "52_seg.png\n",
      "53.meta\n",
      "53.png\n",
      "53_seg.png\n",
      "54.meta\n",
      "54.png\n",
      "54_seg.png\n",
      "55.meta\n",
      "55.png\n",
      "55_seg.png\n",
      "56.meta\n",
      "56.png\n",
      "56_seg.png\n",
      "57.meta\n",
      "57.png\n",
      "57_seg.png\n",
      "58.meta\n",
      "58.png\n",
      "58_seg.png\n",
      "59.meta\n",
      "59.png\n",
      "59_seg.png\n",
      "5_seg.png\n",
      "6.meta\n",
      "6.png\n",
      "60.meta\n",
      "60.png\n",
      "60_seg.png\n",
      "61.meta\n",
      "61.png\n",
      "61_seg.png\n",
      "62.meta\n",
      "62.png\n",
      "62_seg.png\n",
      "63.meta\n",
      "63.png\n",
      "63_seg.png\n",
      "64.meta\n",
      "64.png\n",
      "64_seg.png\n",
      "65.meta\n",
      "65.png\n",
      "65_seg.png\n",
      "66.meta\n",
      "66.png\n",
      "66_seg.png\n",
      "67.meta\n",
      "67.png\n",
      "67_seg.png\n",
      "68.meta\n",
      "68.png\n",
      "68_seg.png\n",
      "69.meta\n",
      "69.png\n",
      "69_seg.png\n",
      "6_seg.png\n",
      "7.meta\n",
      "7.png\n",
      "70.meta\n",
      "70.png\n",
      "70_seg.png\n",
      "71.meta\n",
      "71.png\n",
      "71_seg.png\n",
      "72.meta\n",
      "72.png\n",
      "72_seg.png\n",
      "73.meta\n",
      "73.png\n",
      "73_seg.png\n",
      "74.meta\n",
      "74.png\n",
      "74_seg.png\n",
      "75.meta\n",
      "75.png\n",
      "75_seg.png\n",
      "76.meta\n",
      "76.png\n",
      "76_seg.png\n",
      "77.meta\n",
      "77.png\n",
      "77_seg.png\n",
      "78.meta\n",
      "78.png\n",
      "78_seg.png\n",
      "79.meta\n",
      "79.png\n",
      "79_seg.png\n",
      "7_seg.png\n",
      "8.meta\n",
      "8.png\n",
      "80.meta\n",
      "80.png\n",
      "80_seg.png\n",
      "81.meta\n",
      "81.png\n",
      "81_seg.png\n",
      "82.meta\n",
      "82.png\n",
      "82_seg.png\n",
      "83.meta\n",
      "83.png\n",
      "83_seg.png\n",
      "84.meta\n",
      "84.png\n",
      "84_seg.png\n",
      "85.meta\n",
      "85.png\n",
      "85_seg.png\n",
      "86.meta\n",
      "86.png\n",
      "86_seg.png\n",
      "87.meta\n",
      "87.png\n",
      "87_seg.png\n",
      "88.meta\n",
      "88.png\n",
      "88_seg.png\n",
      "89.meta\n",
      "89.png\n",
      "89_seg.png\n",
      "8_seg.png\n",
      "9.meta\n",
      "9.png\n",
      "90.meta\n",
      "90.png\n",
      "90_seg.png\n",
      "91.meta\n",
      "91.png\n",
      "91_seg.png\n",
      "92.meta\n",
      "92.png\n",
      "92_seg.png\n",
      "93.meta\n",
      "93.png\n",
      "93_seg.png\n",
      "94.meta\n",
      "94.png\n",
      "94_seg.png\n",
      "95.meta\n",
      "95.png\n",
      "95_seg.png\n",
      "96.meta\n",
      "96.png\n",
      "96_seg.png\n",
      "97.meta\n",
      "97.png\n",
      "97_seg.png\n",
      "98.meta\n",
      "98.png\n",
      "98_seg.png\n",
      "99.meta\n",
      "99.png\n",
      "99_seg.png\n",
      "9_seg.png\n",
      "test.png\n"
     ]
    }
   ],
   "source": [
    "# iterate over a list\n",
    "for f in files:\n",
    "    print(f)"
   ]
  },
  {
   "cell_type": "code",
   "execution_count": 8,
   "id": "bbabd6f7",
   "metadata": {},
   "outputs": [
    {
     "data": {
      "text/plain": [
       "['0.meta',\n",
       " '1.meta',\n",
       " '10.meta',\n",
       " '11.meta',\n",
       " '12.meta',\n",
       " '13.meta',\n",
       " '14.meta',\n",
       " '15.meta',\n",
       " '16.meta',\n",
       " '17.meta',\n",
       " '18.meta',\n",
       " '19.meta',\n",
       " '2.meta',\n",
       " '20.meta',\n",
       " '21.meta',\n",
       " '22.meta',\n",
       " '23.meta',\n",
       " '24.meta',\n",
       " '25.meta',\n",
       " '26.meta',\n",
       " '27.meta',\n",
       " '28.meta',\n",
       " '29.meta',\n",
       " '3.meta',\n",
       " '30.meta',\n",
       " '31.meta',\n",
       " '32.meta',\n",
       " '33.meta',\n",
       " '34.meta',\n",
       " '35.meta',\n",
       " '36.meta',\n",
       " '37.meta',\n",
       " '38.meta',\n",
       " '39.meta',\n",
       " '4.meta',\n",
       " '40.meta',\n",
       " '41.meta',\n",
       " '42.meta',\n",
       " '43.meta',\n",
       " '44.meta',\n",
       " '45.meta',\n",
       " '46.meta',\n",
       " '47.meta',\n",
       " '48.meta',\n",
       " '49.meta',\n",
       " '5.meta',\n",
       " '50.meta',\n",
       " '51.meta',\n",
       " '52.meta',\n",
       " '53.meta',\n",
       " '54.meta',\n",
       " '55.meta',\n",
       " '56.meta',\n",
       " '57.meta',\n",
       " '58.meta',\n",
       " '59.meta',\n",
       " '6.meta',\n",
       " '60.meta',\n",
       " '61.meta',\n",
       " '62.meta',\n",
       " '63.meta',\n",
       " '64.meta',\n",
       " '65.meta',\n",
       " '66.meta',\n",
       " '67.meta',\n",
       " '68.meta',\n",
       " '69.meta',\n",
       " '7.meta',\n",
       " '70.meta',\n",
       " '71.meta',\n",
       " '72.meta',\n",
       " '73.meta',\n",
       " '74.meta',\n",
       " '75.meta',\n",
       " '76.meta',\n",
       " '77.meta',\n",
       " '78.meta',\n",
       " '79.meta',\n",
       " '8.meta',\n",
       " '80.meta',\n",
       " '81.meta',\n",
       " '82.meta',\n",
       " '83.meta',\n",
       " '84.meta',\n",
       " '85.meta',\n",
       " '86.meta',\n",
       " '87.meta',\n",
       " '88.meta',\n",
       " '89.meta',\n",
       " '9.meta',\n",
       " '90.meta',\n",
       " '91.meta',\n",
       " '92.meta',\n",
       " '93.meta',\n",
       " '94.meta',\n",
       " '95.meta',\n",
       " '96.meta',\n",
       " '97.meta',\n",
       " '98.meta',\n",
       " '99.meta']"
      ]
     },
     "execution_count": 8,
     "metadata": {},
     "output_type": "execute_result"
    }
   ],
   "source": [
    "# get all unique filenames (e.g. each filename with file extension '.meta')\n",
    "filenames = [f for f in files if '.meta' in f]\n",
    "filenames"
   ]
  },
  {
   "cell_type": "code",
   "execution_count": 9,
   "id": "4d15e0d1",
   "metadata": {},
   "outputs": [
    {
     "data": {
      "text/plain": [
       "['Mini_BAGLS_dataset\\\\0.meta',\n",
       " 'Mini_BAGLS_dataset\\\\1.meta',\n",
       " 'Mini_BAGLS_dataset\\\\10.meta',\n",
       " 'Mini_BAGLS_dataset\\\\11.meta',\n",
       " 'Mini_BAGLS_dataset\\\\12.meta',\n",
       " 'Mini_BAGLS_dataset\\\\13.meta',\n",
       " 'Mini_BAGLS_dataset\\\\14.meta',\n",
       " 'Mini_BAGLS_dataset\\\\15.meta',\n",
       " 'Mini_BAGLS_dataset\\\\16.meta',\n",
       " 'Mini_BAGLS_dataset\\\\17.meta',\n",
       " 'Mini_BAGLS_dataset\\\\18.meta',\n",
       " 'Mini_BAGLS_dataset\\\\19.meta',\n",
       " 'Mini_BAGLS_dataset\\\\2.meta',\n",
       " 'Mini_BAGLS_dataset\\\\20.meta',\n",
       " 'Mini_BAGLS_dataset\\\\21.meta',\n",
       " 'Mini_BAGLS_dataset\\\\22.meta',\n",
       " 'Mini_BAGLS_dataset\\\\23.meta',\n",
       " 'Mini_BAGLS_dataset\\\\24.meta',\n",
       " 'Mini_BAGLS_dataset\\\\25.meta',\n",
       " 'Mini_BAGLS_dataset\\\\26.meta',\n",
       " 'Mini_BAGLS_dataset\\\\27.meta',\n",
       " 'Mini_BAGLS_dataset\\\\28.meta',\n",
       " 'Mini_BAGLS_dataset\\\\29.meta',\n",
       " 'Mini_BAGLS_dataset\\\\3.meta',\n",
       " 'Mini_BAGLS_dataset\\\\30.meta',\n",
       " 'Mini_BAGLS_dataset\\\\31.meta',\n",
       " 'Mini_BAGLS_dataset\\\\32.meta',\n",
       " 'Mini_BAGLS_dataset\\\\33.meta',\n",
       " 'Mini_BAGLS_dataset\\\\34.meta',\n",
       " 'Mini_BAGLS_dataset\\\\35.meta',\n",
       " 'Mini_BAGLS_dataset\\\\36.meta',\n",
       " 'Mini_BAGLS_dataset\\\\37.meta',\n",
       " 'Mini_BAGLS_dataset\\\\38.meta',\n",
       " 'Mini_BAGLS_dataset\\\\39.meta',\n",
       " 'Mini_BAGLS_dataset\\\\4.meta',\n",
       " 'Mini_BAGLS_dataset\\\\40.meta',\n",
       " 'Mini_BAGLS_dataset\\\\41.meta',\n",
       " 'Mini_BAGLS_dataset\\\\42.meta',\n",
       " 'Mini_BAGLS_dataset\\\\43.meta',\n",
       " 'Mini_BAGLS_dataset\\\\44.meta',\n",
       " 'Mini_BAGLS_dataset\\\\45.meta',\n",
       " 'Mini_BAGLS_dataset\\\\46.meta',\n",
       " 'Mini_BAGLS_dataset\\\\47.meta',\n",
       " 'Mini_BAGLS_dataset\\\\48.meta',\n",
       " 'Mini_BAGLS_dataset\\\\49.meta',\n",
       " 'Mini_BAGLS_dataset\\\\5.meta',\n",
       " 'Mini_BAGLS_dataset\\\\50.meta',\n",
       " 'Mini_BAGLS_dataset\\\\51.meta',\n",
       " 'Mini_BAGLS_dataset\\\\52.meta',\n",
       " 'Mini_BAGLS_dataset\\\\53.meta',\n",
       " 'Mini_BAGLS_dataset\\\\54.meta',\n",
       " 'Mini_BAGLS_dataset\\\\55.meta',\n",
       " 'Mini_BAGLS_dataset\\\\56.meta',\n",
       " 'Mini_BAGLS_dataset\\\\57.meta',\n",
       " 'Mini_BAGLS_dataset\\\\58.meta',\n",
       " 'Mini_BAGLS_dataset\\\\59.meta',\n",
       " 'Mini_BAGLS_dataset\\\\6.meta',\n",
       " 'Mini_BAGLS_dataset\\\\60.meta',\n",
       " 'Mini_BAGLS_dataset\\\\61.meta',\n",
       " 'Mini_BAGLS_dataset\\\\62.meta',\n",
       " 'Mini_BAGLS_dataset\\\\63.meta',\n",
       " 'Mini_BAGLS_dataset\\\\64.meta',\n",
       " 'Mini_BAGLS_dataset\\\\65.meta',\n",
       " 'Mini_BAGLS_dataset\\\\66.meta',\n",
       " 'Mini_BAGLS_dataset\\\\67.meta',\n",
       " 'Mini_BAGLS_dataset\\\\68.meta',\n",
       " 'Mini_BAGLS_dataset\\\\69.meta',\n",
       " 'Mini_BAGLS_dataset\\\\7.meta',\n",
       " 'Mini_BAGLS_dataset\\\\70.meta',\n",
       " 'Mini_BAGLS_dataset\\\\71.meta',\n",
       " 'Mini_BAGLS_dataset\\\\72.meta',\n",
       " 'Mini_BAGLS_dataset\\\\73.meta',\n",
       " 'Mini_BAGLS_dataset\\\\74.meta',\n",
       " 'Mini_BAGLS_dataset\\\\75.meta',\n",
       " 'Mini_BAGLS_dataset\\\\76.meta',\n",
       " 'Mini_BAGLS_dataset\\\\77.meta',\n",
       " 'Mini_BAGLS_dataset\\\\78.meta',\n",
       " 'Mini_BAGLS_dataset\\\\79.meta',\n",
       " 'Mini_BAGLS_dataset\\\\8.meta',\n",
       " 'Mini_BAGLS_dataset\\\\80.meta',\n",
       " 'Mini_BAGLS_dataset\\\\81.meta',\n",
       " 'Mini_BAGLS_dataset\\\\82.meta',\n",
       " 'Mini_BAGLS_dataset\\\\83.meta',\n",
       " 'Mini_BAGLS_dataset\\\\84.meta',\n",
       " 'Mini_BAGLS_dataset\\\\85.meta',\n",
       " 'Mini_BAGLS_dataset\\\\86.meta',\n",
       " 'Mini_BAGLS_dataset\\\\87.meta',\n",
       " 'Mini_BAGLS_dataset\\\\88.meta',\n",
       " 'Mini_BAGLS_dataset\\\\89.meta',\n",
       " 'Mini_BAGLS_dataset\\\\9.meta',\n",
       " 'Mini_BAGLS_dataset\\\\90.meta',\n",
       " 'Mini_BAGLS_dataset\\\\91.meta',\n",
       " 'Mini_BAGLS_dataset\\\\92.meta',\n",
       " 'Mini_BAGLS_dataset\\\\93.meta',\n",
       " 'Mini_BAGLS_dataset\\\\94.meta',\n",
       " 'Mini_BAGLS_dataset\\\\95.meta',\n",
       " 'Mini_BAGLS_dataset\\\\96.meta',\n",
       " 'Mini_BAGLS_dataset\\\\97.meta',\n",
       " 'Mini_BAGLS_dataset\\\\98.meta',\n",
       " 'Mini_BAGLS_dataset\\\\99.meta']"
      ]
     },
     "execution_count": 9,
     "metadata": {},
     "output_type": "execute_result"
    }
   ],
   "source": [
    "# another way to combine os.listdir() and the for loop in one line --> use glob\n",
    "import glob\n",
    "glob_filenames = glob.glob(path + \"/*.meta\")\n",
    "glob_filenames"
   ]
  },
  {
   "cell_type": "code",
   "execution_count": 10,
   "id": "59bb55b0",
   "metadata": {},
   "outputs": [
    {
     "name": "stdout",
     "output_type": "stream",
     "text": [
      "12\n",
      "1009\n"
     ]
    }
   ],
   "source": [
    "# get filename (separate the number from the file extension)\n",
    "print(filenames[4].split(\".\")[0])\n",
    "\n",
    "path_pathlib = path_pathlib / \"1009.meta\"\n",
    "print(path_pathlib.stem)"
   ]
  },
  {
   "cell_type": "code",
   "execution_count": 11,
   "id": "084eb4eb",
   "metadata": {},
   "outputs": [
    {
     "name": "stdout",
     "output_type": "stream",
     "text": [
      "0 0.meta\n"
     ]
    }
   ],
   "source": [
    "# iterate over the filenames (with index)\n",
    "for idx, f in enumerate(filenames):\n",
    "    print(idx, f)\n",
    "    break\n",
    "    \n",
    "# out: Index: X, Filename: YYYY"
   ]
  },
  {
   "cell_type": "code",
   "execution_count": 35,
   "id": "3a898e7c",
   "metadata": {},
   "outputs": [
    {
     "data": {
      "text/plain": [
       "<matplotlib.image.AxesImage at 0x25690ca9160>"
      ]
     },
     "execution_count": 35,
     "metadata": {},
     "output_type": "execute_result"
    },
    {
     "data": {
      "image/png": "[encoded data removed]",
      "text/plain": [
       "<Figure size 432x288 with 1 Axes>"
      ]
     },
     "metadata": {
      "needs_background": "light"
     },
     "output_type": "display_data"
    }
   ],
   "source": [
    "import imageio as io\n",
    "from PIL import Image\n",
    "import skimage.io\n",
    "import cv2\n",
    "\n",
    "## load image with different libraries\n",
    "img_path = 'Mini_BAGLS_dataset/52.png'\n",
    "img = io.imread(img_path)\n",
    "img = Image.open(img_path)\n",
    "img = skimage.io.imread(img_path)\n",
    "img = cv2.imread(img_path); img = cv2.cvtColor(img, cv2.COLOR_BGR2RGB)\n",
    "\n",
    "# load image as grayscale\n",
    "img = skimage.io.imread(img_path, as_gray=True)\n",
    "plt.imshow(img, cmap='gray')"
   ]
  },
  {
   "cell_type": "code",
   "execution_count": 36,
   "id": "e96d628e",
   "metadata": {},
   "outputs": [],
   "source": [
    "# which image loading function to use?\n",
    "import time\n",
    "def test_read_image(imgfile, func):\n",
    "    t0 = time.time()\n",
    "    img = func(imgfile)\n",
    "    t = time.time() - t0\n",
    "    return t\n",
    "\n",
    "functions = [io.imread, Image.open, skimage.io.imread, cv2.imread]\n",
    "\n",
    "times = []\n",
    "for func in functions:\n",
    "    ts = []\n",
    "    # load each image\n",
    "    for f in filenames:\n",
    "        name = f.split(\".\")[0]\n",
    "        t = test_read_image(os.path.join(path, name + \".png\"), func)\n",
    "        ts.append(t)\n",
    "    times.append(ts)"
   ]
  },
  {
   "cell_type": "code",
   "execution_count": 37,
   "id": "27ce375c",
   "metadata": {},
   "outputs": [
    {
     "name": "stdout",
     "output_type": "stream",
     "text": [
      "<function imread at 0x000002568D5D7E50>\n",
      "0.005248 seconds\n",
      "_____\n",
      "<function open at 0x000002568CF46310>\n",
      "0.000534 seconds\n",
      "_____\n",
      "<function imread at 0x000002568D9D9790>\n",
      "0.005060 seconds\n",
      "_____\n",
      "<built-in function imread>\n",
      "0.003342 seconds\n",
      "_____\n"
     ]
    }
   ],
   "source": [
    "# Note: we are calculating the mean time for each image loading method here\n",
    "for t, func in zip(times, functions):\n",
    "    print(str(func))\n",
    "    print(\"{:.6f} seconds\".format(np.mean(t)))\n",
    "    print(\"_____\")"
   ]
  },
  {
   "cell_type": "code",
   "execution_count": 38,
   "id": "2ca87821",
   "metadata": {
    "scrolled": false
   },
   "outputs": [
    {
     "data": {
      "image/png": "[encoded data removed]",
      "text/plain": [
       "<Figure size 360x360 with 2 Axes>"
      ]
     },
     "metadata": {
      "needs_background": "light"
     },
     "output_type": "display_data"
    },
    {
     "data": {
      "image/png": "[encoded data removed]",
      "text/plain": [
       "<Figure size 360x360 with 2 Axes>"
      ]
     },
     "metadata": {
      "needs_background": "light"
     },
     "output_type": "display_data"
    },
    {
     "data": {
      "image/png": "[encoded data removed]",
      "text/plain": [
       "<Figure size 360x360 with 2 Axes>"
      ]
     },
     "metadata": {
      "needs_background": "light"
     },
     "output_type": "display_data"
    },
    {
     "data": {
      "image/png": "[encoded data removed]",
      "text/plain": [
       "<Figure size 360x360 with 2 Axes>"
      ]
     },
     "metadata": {
      "needs_background": "light"
     },
     "output_type": "display_data"
    },
    {
     "data": {
      "image/png": "[encoded data removed]",
      "text/plain": [
       "<Figure size 360x360 with 2 Axes>"
      ]
     },
     "metadata": {
      "needs_background": "light"
     },
     "output_type": "display_data"
    }
   ],
   "source": [
    "for idx, f in enumerate(glob_filenames):\n",
    "    # make sure to only look at the first 5 samples and not all 2000 of them\n",
    "    if idx == 5:\n",
    "        break\n",
    "    \n",
    "    # get basename\n",
    "    basename = os.path.basename(f)\n",
    "        \n",
    "    # split name\n",
    "    name = basename.split(\".\")[0]\n",
    "    \n",
    "    # load image and segmentation mask\n",
    "    img_path = os.path.join(path, name + \".png\")\n",
    "    seg_path = os.path.join(path, name + \"_seg.png\")\n",
    "    img = io.imread(img_path)\n",
    "    seg = io.imread(seg_path)\n",
    "\n",
    "    # visualize image and segmentation mask\n",
    "    fig, (ax1, ax2) = plt.subplots(1, 2, figsize=(5, 5))\n",
    "    ax1.axis(\"off\"); ax2.axis(\"off\")\n",
    "\n",
    "    # show both\n",
    "    ax1.imshow(img);ax2.imshow(seg)    \n",
    "    plt.show()"
   ]
  },
  {
   "cell_type": "code",
   "execution_count": 39,
   "id": "13500c1b",
   "metadata": {},
   "outputs": [
    {
     "data": {
      "text/plain": [
       "<matplotlib.image.AxesImage at 0x2568e904250>"
      ]
     },
     "execution_count": 39,
     "metadata": {},
     "output_type": "execute_result"
    },
    {
     "data": {
      "image/png": "[encoded data removed]",
      "text/plain": [
       "<Figure size 432x288 with 1 Axes>"
      ]
     },
     "metadata": {
      "needs_background": "light"
     },
     "output_type": "display_data"
    }
   ],
   "source": [
    "ref_image = img\n",
    "plt.imshow(ref_image)"
   ]
  },
  {
   "cell_type": "code",
   "execution_count": 40,
   "id": "84d8563c",
   "metadata": {},
   "outputs": [],
   "source": [
    "# saving with different formats\n",
    "\n",
    "# tif\n",
    "io.imwrite(\"saved_image.tif\", ref_image)\n",
    "\n",
    "# png\n",
    "io.imwrite(\"saved_image.png\", ref_image)\n",
    "\n",
    "# jpg\n",
    "io.imwrite(\"saved_image90.jpg\", ref_image, quality=90) # quality specifies how much the saved JPEG image should be compressed\n",
    "io.imwrite(\"saved_image10.jpg\", ref_image, quality=10)"
   ]
  },
  {
   "cell_type": "code",
   "execution_count": 41,
   "id": "573eeeac",
   "metadata": {},
   "outputs": [
    {
     "data": {
      "text/plain": [
       "Text(0, 0.5, 'File size [bytes]')"
      ]
     },
     "execution_count": 41,
     "metadata": {},
     "output_type": "execute_result"
    },
    {
     "data": {
      "image/png": "[encoded data removed]",
      "text/plain": [
       "<Figure size 432x288 with 1 Axes>"
      ]
     },
     "metadata": {
      "needs_background": "light"
     },
     "output_type": "display_data"
    }
   ],
   "source": [
    "# check out memory footprints\n",
    "img_tif_size = os.path.getsize(\"saved_image.tif\")\n",
    "img_png_size = os.path.getsize(\"saved_image.png\")\n",
    "img_jpg90_size = os.path.getsize(\"saved_image90.jpg\")\n",
    "img_jpg10_size = os.path.getsize(\"saved_image10.jpg\")\n",
    "\n",
    "plt.bar([0, 1, 2, 3], [img_tif_size, img_png_size, img_jpg90_size, img_jpg10_size])\n",
    "plt.xticks([0, 1, 2, 3], [\".tif\", \".png\", \".jpg (90)\", \".jpg (10)\"])\n",
    "plt.ylabel(\"File size [bytes]\")"
   ]
  },
  {
   "cell_type": "markdown",
   "id": "b8fabdee",
   "metadata": {},
   "source": [
    "### Check out exercise slide here --> JPEG compression"
   ]
  },
  {
   "cell_type": "code",
   "execution_count": 42,
   "id": "77b07ac9",
   "metadata": {},
   "outputs": [],
   "source": [
    "# load images\n",
    "img_tif = io.imread(\"saved_image.tif\")\n",
    "img_png = io.imread(\"saved_image.png\")\n",
    "img_jpg90 = io.imread(\"saved_image90.jpg\")\n",
    "img_jpg10 = io.imread(\"saved_image90.jpg\")"
   ]
  },
  {
   "cell_type": "code",
   "execution_count": 43,
   "id": "12675b5f",
   "metadata": {},
   "outputs": [
    {
     "data": {
      "text/plain": [
       "False"
      ]
     },
     "execution_count": 43,
     "metadata": {},
     "output_type": "execute_result"
    }
   ],
   "source": [
    "# compare them to each other\n",
    "np.allclose(ref_image, img_tif)\n",
    "np.allclose(ref_image, img_png)\n",
    "np.allclose(ref_image, img_jpg90)\n",
    "#np.allclose(ref_image, img_jpg10)"
   ]
  },
  {
   "attachments": {
    "image-2.png": {
     "image/png": "[encoded data removed]"
    },
    "image-3.png": {
     "image/png": "[encoded data removed]"
    }
   },
   "cell_type": "markdown",
   "id": "22c98c7e",
   "metadata": {},
   "source": [
    "### Calculate [PSNR](https://www.ni.com/de-de/innovations/white-papers/11/peak-signal-to-noise-ratio-as-an-image-quality-metric.html) between images\n",
    "\n",
    "![image-2.png](attachment:image-2.png)\n",
    "\n",
    "![image-3.png](attachment:image-3.png)"
   ]
  },
  {
   "cell_type": "code",
   "execution_count": 44,
   "id": "91842aee",
   "metadata": {},
   "outputs": [],
   "source": [
    "def psnr(img1, img2):\n",
    "    #mean squared error:\n",
    "    mse = np.mean((img1 - img2) ** 2)\n",
    "    if mse == 0:\n",
    "        return \"MSE is zero\"\n",
    "    PIXEL_MAX = 255.0\n",
    "    return 20 * np.log10(PIXEL_MAX / np.sqrt(mse))"
   ]
  },
  {
   "cell_type": "code",
   "execution_count": 47,
   "id": "edadb763",
   "metadata": {},
   "outputs": [
    {
     "name": "stdout",
     "output_type": "stream",
     "text": [
      "MSE is zero\n",
      "MSE is zero\n",
      "48.212142557512145\n",
      "48.212142557512145\n",
      "7.647438397070464\n"
     ]
    }
   ],
   "source": [
    "print(psnr(ref_image, img_tif))\n",
    "print(psnr(ref_image, img_png))\n",
    "print(psnr(ref_image, img_jpg90))\n",
    "print(psnr(ref_image, img_jpg10))\n",
    "\n",
    "print(psnr(ref_image, np.random.randint(0, 255, ref_image.shape)))"
   ]
  },
  {
   "cell_type": "code",
   "execution_count": 48,
   "id": "3b2a111f",
   "metadata": {},
   "outputs": [
    {
     "data": {
      "text/html": [
       "<div>\n",
       "<style scoped>\n",
       "    .dataframe tbody tr th:only-of-type {\n",
       "        vertical-align: middle;\n",
       "    }\n",
       "\n",
       "    .dataframe tbody tr th {\n",
       "        vertical-align: top;\n",
       "    }\n",
       "\n",
       "    .dataframe thead th {\n",
       "        text-align: right;\n",
       "    }\n",
       "</style>\n",
       "<table border=\"1\" class=\"dataframe\">\n",
       "  <thead>\n",
       "    <tr style=\"text-align: right;\">\n",
       "      <th></th>\n",
       "      <th>Video Id</th>\n",
       "      <th>Camera</th>\n",
       "      <th>Sampling rate (Hz)</th>\n",
       "      <th>Video resolution (px, HxW)</th>\n",
       "      <th>Color</th>\n",
       "      <th>Endoscope orientation</th>\n",
       "      <th>Endoscope application</th>\n",
       "      <th>Age range (yrs)</th>\n",
       "      <th>Subject sex</th>\n",
       "      <th>Subject disorder status</th>\n",
       "      <th>Segmenter</th>\n",
       "      <th>Post-processed</th>\n",
       "    </tr>\n",
       "  </thead>\n",
       "  <tbody>\n",
       "    <tr>\n",
       "      <th>0</th>\n",
       "      <td>37</td>\n",
       "      <td>KayPentax HSV 9710 (Photron)</td>\n",
       "      <td>4000</td>\n",
       "      <td>[512, 256]</td>\n",
       "      <td>False</td>\n",
       "      <td>70°</td>\n",
       "      <td>oral</td>\n",
       "      <td>20-30</td>\n",
       "      <td>w</td>\n",
       "      <td>healthy</td>\n",
       "      <td>0</td>\n",
       "      <td>1</td>\n",
       "    </tr>\n",
       "    <tr>\n",
       "      <th>1</th>\n",
       "      <td>277</td>\n",
       "      <td>KayPentax HSV 9710 (Photron)</td>\n",
       "      <td>4000</td>\n",
       "      <td>[512, 256]</td>\n",
       "      <td>False</td>\n",
       "      <td>70°</td>\n",
       "      <td>oral</td>\n",
       "      <td></td>\n",
       "      <td>w</td>\n",
       "      <td>healthy</td>\n",
       "      <td>0</td>\n",
       "      <td>1</td>\n",
       "    </tr>\n",
       "    <tr>\n",
       "      <th>2</th>\n",
       "      <td>567</td>\n",
       "      <td>KayPentax HSV 9710 (Photron)</td>\n",
       "      <td>6000</td>\n",
       "      <td>[288, 128]</td>\n",
       "      <td>False</td>\n",
       "      <td>70°</td>\n",
       "      <td>oral</td>\n",
       "      <td>40-50</td>\n",
       "      <td>m</td>\n",
       "      <td>healthy</td>\n",
       "      <td>1</td>\n",
       "      <td>2</td>\n",
       "    </tr>\n",
       "    <tr>\n",
       "      <th>3</th>\n",
       "      <td>104</td>\n",
       "      <td>KayPentax HSV 9710 (Photron)</td>\n",
       "      <td>4000</td>\n",
       "      <td>[512, 256]</td>\n",
       "      <td>False</td>\n",
       "      <td>70°</td>\n",
       "      <td>oral</td>\n",
       "      <td>50-60</td>\n",
       "      <td>w</td>\n",
       "      <td>healthy</td>\n",
       "      <td>0</td>\n",
       "      <td>2</td>\n",
       "    </tr>\n",
       "    <tr>\n",
       "      <th>4</th>\n",
       "      <td>139</td>\n",
       "      <td>HERS 5562 Endocam Wolf</td>\n",
       "      <td>4000</td>\n",
       "      <td>[256, 256]</td>\n",
       "      <td>False</td>\n",
       "      <td>90°</td>\n",
       "      <td>oral</td>\n",
       "      <td>30-40</td>\n",
       "      <td>w</td>\n",
       "      <td>Muscle tension dysphonia</td>\n",
       "      <td>0</td>\n",
       "      <td>1</td>\n",
       "    </tr>\n",
       "    <tr>\n",
       "      <th>...</th>\n",
       "      <td>...</td>\n",
       "      <td>...</td>\n",
       "      <td>...</td>\n",
       "      <td>...</td>\n",
       "      <td>...</td>\n",
       "      <td>...</td>\n",
       "      <td>...</td>\n",
       "      <td>...</td>\n",
       "      <td>...</td>\n",
       "      <td>...</td>\n",
       "      <td>...</td>\n",
       "      <td>...</td>\n",
       "    </tr>\n",
       "    <tr>\n",
       "      <th>95</th>\n",
       "      <td>58</td>\n",
       "      <td>KayPentax HSV 9710 (Photron)</td>\n",
       "      <td>4000</td>\n",
       "      <td>[512, 256]</td>\n",
       "      <td>False</td>\n",
       "      <td>70°</td>\n",
       "      <td>oral</td>\n",
       "      <td>70-80</td>\n",
       "      <td>w</td>\n",
       "      <td>Muscle tension dysphonia with M. thyroarythaen...</td>\n",
       "      <td>0</td>\n",
       "      <td>1</td>\n",
       "    </tr>\n",
       "    <tr>\n",
       "      <th>96</th>\n",
       "      <td>137</td>\n",
       "      <td>KayPentax HSV 9710 (Photron)</td>\n",
       "      <td>4000</td>\n",
       "      <td>[512, 256]</td>\n",
       "      <td>False</td>\n",
       "      <td>70°</td>\n",
       "      <td>oral</td>\n",
       "      <td>40-50</td>\n",
       "      <td>w</td>\n",
       "      <td>healthy</td>\n",
       "      <td>0</td>\n",
       "      <td>1</td>\n",
       "    </tr>\n",
       "    <tr>\n",
       "      <th>97</th>\n",
       "      <td>138</td>\n",
       "      <td>KayPentax HSV 9710 (Photron)</td>\n",
       "      <td>4000</td>\n",
       "      <td>[512, 256]</td>\n",
       "      <td>False</td>\n",
       "      <td>70°</td>\n",
       "      <td>oral</td>\n",
       "      <td>50-60</td>\n",
       "      <td>m</td>\n",
       "      <td>healthy</td>\n",
       "      <td>0</td>\n",
       "      <td>1</td>\n",
       "    </tr>\n",
       "    <tr>\n",
       "      <th>98</th>\n",
       "      <td>497</td>\n",
       "      <td>KayPentax HSV 9710 (Photron)</td>\n",
       "      <td>4000</td>\n",
       "      <td>[512, 256]</td>\n",
       "      <td>False</td>\n",
       "      <td>70°</td>\n",
       "      <td>oral</td>\n",
       "      <td>30-40</td>\n",
       "      <td>m</td>\n",
       "      <td>healthy</td>\n",
       "      <td>0</td>\n",
       "      <td>2</td>\n",
       "    </tr>\n",
       "    <tr>\n",
       "      <th>99</th>\n",
       "      <td>289</td>\n",
       "      <td>KayPentax HSV 9710 (Photron)</td>\n",
       "      <td>4000</td>\n",
       "      <td>[512, 256]</td>\n",
       "      <td>False</td>\n",
       "      <td>70°</td>\n",
       "      <td>oral</td>\n",
       "      <td>30-40</td>\n",
       "      <td>w</td>\n",
       "      <td>Muscle tension dysphonia with nodules</td>\n",
       "      <td>0</td>\n",
       "      <td>2</td>\n",
       "    </tr>\n",
       "  </tbody>\n",
       "</table>\n",
       "<p>100 rows × 12 columns</p>\n",
       "</div>"
      ],
      "text/plain": [
       "    Video Id                        Camera  Sampling rate (Hz)  \\\n",
       "0         37  KayPentax HSV 9710 (Photron)                4000   \n",
       "1        277  KayPentax HSV 9710 (Photron)                4000   \n",
       "2        567  KayPentax HSV 9710 (Photron)                6000   \n",
       "3        104  KayPentax HSV 9710 (Photron)                4000   \n",
       "4        139        HERS 5562 Endocam Wolf                4000   \n",
       "..       ...                           ...                 ...   \n",
       "95        58  KayPentax HSV 9710 (Photron)                4000   \n",
       "96       137  KayPentax HSV 9710 (Photron)                4000   \n",
       "97       138  KayPentax HSV 9710 (Photron)                4000   \n",
       "98       497  KayPentax HSV 9710 (Photron)                4000   \n",
       "99       289  KayPentax HSV 9710 (Photron)                4000   \n",
       "\n",
       "   Video resolution (px, HxW)  Color Endoscope orientation  \\\n",
       "0                  [512, 256]  False                   70°   \n",
       "1                  [512, 256]  False                   70°   \n",
       "2                  [288, 128]  False                   70°   \n",
       "3                  [512, 256]  False                   70°   \n",
       "4                  [256, 256]  False                   90°   \n",
       "..                        ...    ...                   ...   \n",
       "95                 [512, 256]  False                   70°   \n",
       "96                 [512, 256]  False                   70°   \n",
       "97                 [512, 256]  False                   70°   \n",
       "98                 [512, 256]  False                   70°   \n",
       "99                 [512, 256]  False                   70°   \n",
       "\n",
       "   Endoscope application Age range (yrs) Subject sex  \\\n",
       "0                   oral           20-30           w   \n",
       "1                   oral                           w   \n",
       "2                   oral           40-50           m   \n",
       "3                   oral           50-60           w   \n",
       "4                   oral           30-40           w   \n",
       "..                   ...             ...         ...   \n",
       "95                  oral           70-80           w   \n",
       "96                  oral           40-50           w   \n",
       "97                  oral           50-60           m   \n",
       "98                  oral           30-40           m   \n",
       "99                  oral           30-40           w   \n",
       "\n",
       "                              Subject disorder status  Segmenter  \\\n",
       "0                                             healthy          0   \n",
       "1                                             healthy          0   \n",
       "2                                             healthy          1   \n",
       "3                                             healthy          0   \n",
       "4                            Muscle tension dysphonia          0   \n",
       "..                                                ...        ...   \n",
       "95  Muscle tension dysphonia with M. thyroarythaen...          0   \n",
       "96                                            healthy          0   \n",
       "97                                            healthy          0   \n",
       "98                                            healthy          0   \n",
       "99              Muscle tension dysphonia with nodules          0   \n",
       "\n",
       "    Post-processed  \n",
       "0                1  \n",
       "1                1  \n",
       "2                2  \n",
       "3                2  \n",
       "4                1  \n",
       "..             ...  \n",
       "95               1  \n",
       "96               1  \n",
       "97               1  \n",
       "98               2  \n",
       "99               2  \n",
       "\n",
       "[100 rows x 12 columns]"
      ]
     },
     "execution_count": 48,
     "metadata": {},
     "output_type": "execute_result"
    }
   ],
   "source": [
    "import pandas as pd\n",
    "\n",
    "# get all meta data information \n",
    "all_meta_data = []\n",
    "\n",
    "for f in glob_filenames:\n",
    "    # open .meta file\n",
    "    meta_file = open(f)\n",
    "    meta_data = json.load(meta_file)\n",
    "    all_meta_data.append(meta_data)\n",
    "    \n",
    "df = pd.DataFrame(all_meta_data)\n",
    "df"
   ]
  },
  {
   "cell_type": "code",
   "execution_count": 49,
   "id": "b663ab53",
   "metadata": {},
   "outputs": [],
   "source": [
    "df.to_csv(\"metadata.csv\")"
   ]
  },
  {
   "cell_type": "markdown",
   "id": "afa390c1",
   "metadata": {},
   "source": [
    "## Load Glottis video from BAGLS"
   ]
  },
  {
   "cell_type": "code",
   "execution_count": 55,
   "id": "69937030",
   "metadata": {},
   "outputs": [],
   "source": [
    "vid_path = path + \"/glottis_video.mp4\"  # you can use any arbitrary .mp4 video here or download a glottis video from here: https://www.bagls.org/"
   ]
  },
  {
   "cell_type": "code",
   "execution_count": 56,
   "id": "1d5cff41",
   "metadata": {},
   "outputs": [
    {
     "data": {
      "text/html": [
       "<video src=\"Mini_BAGLS_dataset/glottis_video.mp4\" controls  >\n",
       "      Your browser does not support the <code>video</code> element.\n",
       "    </video>"
      ],
      "text/plain": [
       "<IPython.core.display.Video object>"
      ]
     },
     "execution_count": 56,
     "metadata": {},
     "output_type": "execute_result"
    }
   ],
   "source": [
    "from IPython.display import Video\n",
    "Video(vid_path)"
   ]
  },
  {
   "cell_type": "code",
   "execution_count": null,
   "id": "2ea2dc36",
   "metadata": {},
   "outputs": [],
   "source": [
    "!pip install skvideo"
   ]
  },
  {
   "cell_type": "code",
   "execution_count": 57,
   "id": "0ebb79b1",
   "metadata": {},
   "outputs": [
    {
     "ename": "ModuleNotFoundError",
     "evalue": "No module named 'skvideo'",
     "output_type": "error",
     "traceback": [
      "\u001b[1;31m---------------------------------------------------------------------------\u001b[0m",
      "\u001b[1;31mModuleNotFoundError\u001b[0m                       Traceback (most recent call last)",
      "\u001b[1;32m<ipython-input-57-03f483c5a760>\u001b[0m in \u001b[0;36m<module>\u001b[1;34m\u001b[0m\n\u001b[0;32m      1\u001b[0m \u001b[1;31m# load video using scikit-video\u001b[0m\u001b[1;33m\u001b[0m\u001b[1;33m\u001b[0m\u001b[1;33m\u001b[0m\u001b[0m\n\u001b[0;32m      2\u001b[0m \u001b[1;33m\u001b[0m\u001b[0m\n\u001b[1;32m----> 3\u001b[1;33m \u001b[1;32mimport\u001b[0m \u001b[0mskvideo\u001b[0m\u001b[1;33m.\u001b[0m\u001b[0mio\u001b[0m\u001b[1;33m\u001b[0m\u001b[1;33m\u001b[0m\u001b[0m\n\u001b[0m\u001b[0;32m      4\u001b[0m \u001b[0mglottis_video\u001b[0m \u001b[1;33m=\u001b[0m \u001b[0mskvideo\u001b[0m\u001b[1;33m.\u001b[0m\u001b[0mio\u001b[0m\u001b[1;33m.\u001b[0m\u001b[0mvread\u001b[0m\u001b[1;33m(\u001b[0m\u001b[0mpath\u001b[0m \u001b[1;33m+\u001b[0m \u001b[1;34m\"/glottis_video.mp4\"\u001b[0m\u001b[1;33m)\u001b[0m\u001b[1;33m\u001b[0m\u001b[1;33m\u001b[0m\u001b[0m\n\u001b[0;32m      5\u001b[0m \u001b[0mglottis_video\u001b[0m\u001b[1;33m.\u001b[0m\u001b[0mshape\u001b[0m\u001b[1;33m\u001b[0m\u001b[1;33m\u001b[0m\u001b[0m\n",
      "\u001b[1;31mModuleNotFoundError\u001b[0m: No module named 'skvideo'"
     ]
    }
   ],
   "source": [
    "# load video using scikit-video\n",
    "\n",
    "import skvideo.io  \n",
    "glottis_video = skvideo.io.vread(path + \"/glottis_video.mp4\")  \n",
    "glottis_video.shape"
   ]
  },
  {
   "cell_type": "code",
   "execution_count": 59,
   "id": "638d4e80",
   "metadata": {},
   "outputs": [
    {
     "name": "stdout",
     "output_type": "stream",
     "text": [
      "Collecting imageio-ffmpeg\n",
      "  Downloading imageio_ffmpeg-0.4.8-py3-none-win_amd64.whl (22.6 MB)\n",
      "Installing collected packages: imageio-ffmpeg\n",
      "Successfully installed imageio-ffmpeg-0.4.8\n"
     ]
    }
   ],
   "source": [
    "!pip install imageio-ffmpeg"
   ]
  },
  {
   "cell_type": "code",
   "execution_count": 58,
   "id": "89dd4979",
   "metadata": {
    "scrolled": true
   },
   "outputs": [
    {
     "ename": "ImportError",
     "evalue": "To use the imageio ffmpeg plugin you need to 'pip install imageio-ffmpeg'",
     "output_type": "error",
     "traceback": [
      "\u001b[1;31m---------------------------------------------------------------------------\u001b[0m",
      "\u001b[1;31mModuleNotFoundError\u001b[0m                       Traceback (most recent call last)",
      "\u001b[1;32m~\\anaconda3\\lib\\site-packages\\imageio\\plugins\\ffmpeg.py\u001b[0m in \u001b[0;36m_get_ffmpeg_api\u001b[1;34m()\u001b[0m\n\u001b[0;32m     58\u001b[0m         \u001b[1;32mtry\u001b[0m\u001b[1;33m:\u001b[0m\u001b[1;33m\u001b[0m\u001b[1;33m\u001b[0m\u001b[0m\n\u001b[1;32m---> 59\u001b[1;33m             \u001b[1;32mimport\u001b[0m \u001b[0mimageio_ffmpeg\u001b[0m\u001b[1;33m\u001b[0m\u001b[1;33m\u001b[0m\u001b[0m\n\u001b[0m\u001b[0;32m     60\u001b[0m         \u001b[1;32mexcept\u001b[0m \u001b[0mImportError\u001b[0m\u001b[1;33m:\u001b[0m\u001b[1;33m\u001b[0m\u001b[1;33m\u001b[0m\u001b[0m\n",
      "\u001b[1;31mModuleNotFoundError\u001b[0m: No module named 'imageio_ffmpeg'",
      "\nDuring handling of the above exception, another exception occurred:\n",
      "\u001b[1;31mImportError\u001b[0m                               Traceback (most recent call last)",
      "\u001b[1;32m<ipython-input-58-d11c42603ec2>\u001b[0m in \u001b[0;36m<module>\u001b[1;34m\u001b[0m\n\u001b[0;32m      2\u001b[0m \u001b[1;33m\u001b[0m\u001b[0m\n\u001b[0;32m      3\u001b[0m \u001b[1;32mimport\u001b[0m \u001b[0mimageio\u001b[0m\u001b[1;33m\u001b[0m\u001b[1;33m\u001b[0m\u001b[0m\n\u001b[1;32m----> 4\u001b[1;33m \u001b[0mglottis_video\u001b[0m \u001b[1;33m=\u001b[0m \u001b[0mimageio\u001b[0m\u001b[1;33m.\u001b[0m\u001b[0mmimread\u001b[0m\u001b[1;33m(\u001b[0m\u001b[0mpath\u001b[0m \u001b[1;33m+\u001b[0m \u001b[1;34m\"/glottis_video.mp4\"\u001b[0m\u001b[1;33m)\u001b[0m\u001b[1;33m\u001b[0m\u001b[1;33m\u001b[0m\u001b[0m\n\u001b[0m\u001b[0;32m      5\u001b[0m \u001b[0mnp\u001b[0m\u001b[1;33m.\u001b[0m\u001b[0masarray\u001b[0m\u001b[1;33m(\u001b[0m\u001b[0mglottis_video\u001b[0m\u001b[1;33m)\u001b[0m\u001b[1;33m.\u001b[0m\u001b[0mshape\u001b[0m\u001b[1;33m\u001b[0m\u001b[1;33m\u001b[0m\u001b[0m\n",
      "\u001b[1;32m~\\anaconda3\\lib\\site-packages\\imageio\\core\\functions.py\u001b[0m in \u001b[0;36mmimread\u001b[1;34m(uri, format, memtest, **kwargs)\u001b[0m\n\u001b[0;32m    352\u001b[0m \u001b[1;33m\u001b[0m\u001b[0m\n\u001b[0;32m    353\u001b[0m     \u001b[1;31m# Get reader\u001b[0m\u001b[1;33m\u001b[0m\u001b[1;33m\u001b[0m\u001b[1;33m\u001b[0m\u001b[0m\n\u001b[1;32m--> 354\u001b[1;33m     \u001b[0mreader\u001b[0m \u001b[1;33m=\u001b[0m \u001b[0mread\u001b[0m\u001b[1;33m(\u001b[0m\u001b[0muri\u001b[0m\u001b[1;33m,\u001b[0m \u001b[0mformat\u001b[0m\u001b[1;33m,\u001b[0m \u001b[1;34m\"I\"\u001b[0m\u001b[1;33m,\u001b[0m \u001b[1;33m**\u001b[0m\u001b[0mkwargs\u001b[0m\u001b[1;33m)\u001b[0m\u001b[1;33m\u001b[0m\u001b[1;33m\u001b[0m\u001b[0m\n\u001b[0m\u001b[0;32m    355\u001b[0m     \u001b[0mnbyte_limit\u001b[0m \u001b[1;33m=\u001b[0m \u001b[0mto_nbytes\u001b[0m\u001b[1;33m(\u001b[0m\u001b[0mmemtest\u001b[0m\u001b[1;33m,\u001b[0m \u001b[0mMEMTEST_DEFAULT_MIM\u001b[0m\u001b[1;33m)\u001b[0m\u001b[1;33m\u001b[0m\u001b[1;33m\u001b[0m\u001b[0m\n\u001b[0;32m    356\u001b[0m \u001b[1;33m\u001b[0m\u001b[0m\n",
      "\u001b[1;32m~\\anaconda3\\lib\\site-packages\\imageio\\core\\functions.py\u001b[0m in \u001b[0;36mget_reader\u001b[1;34m(uri, format, mode, **kwargs)\u001b[0m\n\u001b[0;32m    184\u001b[0m \u001b[1;33m\u001b[0m\u001b[0m\n\u001b[0;32m    185\u001b[0m     \u001b[1;31m# Return its reader object\u001b[0m\u001b[1;33m\u001b[0m\u001b[1;33m\u001b[0m\u001b[1;33m\u001b[0m\u001b[0m\n\u001b[1;32m--> 186\u001b[1;33m     \u001b[1;32mreturn\u001b[0m \u001b[0mformat\u001b[0m\u001b[1;33m.\u001b[0m\u001b[0mget_reader\u001b[0m\u001b[1;33m(\u001b[0m\u001b[0mrequest\u001b[0m\u001b[1;33m)\u001b[0m\u001b[1;33m\u001b[0m\u001b[1;33m\u001b[0m\u001b[0m\n\u001b[0m\u001b[0;32m    187\u001b[0m \u001b[1;33m\u001b[0m\u001b[0m\n\u001b[0;32m    188\u001b[0m \u001b[1;33m\u001b[0m\u001b[0m\n",
      "\u001b[1;32m~\\anaconda3\\lib\\site-packages\\imageio\\core\\format.py\u001b[0m in \u001b[0;36mget_reader\u001b[1;34m(self, request)\u001b[0m\n\u001b[0;32m    168\u001b[0m                 \u001b[1;34m\"Format %s cannot read in %s mode\"\u001b[0m \u001b[1;33m%\u001b[0m \u001b[1;33m(\u001b[0m\u001b[0mself\u001b[0m\u001b[1;33m.\u001b[0m\u001b[0mname\u001b[0m\u001b[1;33m,\u001b[0m \u001b[0mmodename\u001b[0m\u001b[1;33m)\u001b[0m\u001b[1;33m\u001b[0m\u001b[1;33m\u001b[0m\u001b[0m\n\u001b[0;32m    169\u001b[0m             )\n\u001b[1;32m--> 170\u001b[1;33m         \u001b[1;32mreturn\u001b[0m \u001b[0mself\u001b[0m\u001b[1;33m.\u001b[0m\u001b[0mReader\u001b[0m\u001b[1;33m(\u001b[0m\u001b[0mself\u001b[0m\u001b[1;33m,\u001b[0m \u001b[0mrequest\u001b[0m\u001b[1;33m)\u001b[0m\u001b[1;33m\u001b[0m\u001b[1;33m\u001b[0m\u001b[0m\n\u001b[0m\u001b[0;32m    171\u001b[0m \u001b[1;33m\u001b[0m\u001b[0m\n\u001b[0;32m    172\u001b[0m     \u001b[1;32mdef\u001b[0m \u001b[0mget_writer\u001b[0m\u001b[1;33m(\u001b[0m\u001b[0mself\u001b[0m\u001b[1;33m,\u001b[0m \u001b[0mrequest\u001b[0m\u001b[1;33m)\u001b[0m\u001b[1;33m:\u001b[0m\u001b[1;33m\u001b[0m\u001b[1;33m\u001b[0m\u001b[0m\n",
      "\u001b[1;32m~\\anaconda3\\lib\\site-packages\\imageio\\core\\format.py\u001b[0m in \u001b[0;36m__init__\u001b[1;34m(self, format, request)\u001b[0m\n\u001b[0;32m    219\u001b[0m             \u001b[0mself\u001b[0m\u001b[1;33m.\u001b[0m\u001b[0m_request\u001b[0m \u001b[1;33m=\u001b[0m \u001b[0mrequest\u001b[0m\u001b[1;33m\u001b[0m\u001b[1;33m\u001b[0m\u001b[0m\n\u001b[0;32m    220\u001b[0m             \u001b[1;31m# Open the reader/writer\u001b[0m\u001b[1;33m\u001b[0m\u001b[1;33m\u001b[0m\u001b[1;33m\u001b[0m\u001b[0m\n\u001b[1;32m--> 221\u001b[1;33m             \u001b[0mself\u001b[0m\u001b[1;33m.\u001b[0m\u001b[0m_open\u001b[0m\u001b[1;33m(\u001b[0m\u001b[1;33m**\u001b[0m\u001b[0mself\u001b[0m\u001b[1;33m.\u001b[0m\u001b[0mrequest\u001b[0m\u001b[1;33m.\u001b[0m\u001b[0mkwargs\u001b[0m\u001b[1;33m.\u001b[0m\u001b[0mcopy\u001b[0m\u001b[1;33m(\u001b[0m\u001b[1;33m)\u001b[0m\u001b[1;33m)\u001b[0m\u001b[1;33m\u001b[0m\u001b[1;33m\u001b[0m\u001b[0m\n\u001b[0m\u001b[0;32m    222\u001b[0m \u001b[1;33m\u001b[0m\u001b[0m\n\u001b[0;32m    223\u001b[0m         \u001b[1;33m@\u001b[0m\u001b[0mproperty\u001b[0m\u001b[1;33m\u001b[0m\u001b[1;33m\u001b[0m\u001b[0m\n",
      "\u001b[1;32m~\\anaconda3\\lib\\site-packages\\imageio\\plugins\\ffmpeg.py\u001b[0m in \u001b[0;36m_open\u001b[1;34m(self, loop, size, dtype, pixelformat, print_info, ffmpeg_params, input_params, output_params, fps)\u001b[0m\n\u001b[0;32m    255\u001b[0m         ):\n\u001b[0;32m    256\u001b[0m             \u001b[1;31m# Get generator functions\u001b[0m\u001b[1;33m\u001b[0m\u001b[1;33m\u001b[0m\u001b[1;33m\u001b[0m\u001b[0m\n\u001b[1;32m--> 257\u001b[1;33m             \u001b[0mself\u001b[0m\u001b[1;33m.\u001b[0m\u001b[0m_ffmpeg_api\u001b[0m \u001b[1;33m=\u001b[0m \u001b[0m_get_ffmpeg_api\u001b[0m\u001b[1;33m(\u001b[0m\u001b[1;33m)\u001b[0m\u001b[1;33m\u001b[0m\u001b[1;33m\u001b[0m\u001b[0m\n\u001b[0m\u001b[0;32m    258\u001b[0m             \u001b[1;31m# Process input args\u001b[0m\u001b[1;33m\u001b[0m\u001b[1;33m\u001b[0m\u001b[1;33m\u001b[0m\u001b[0m\n\u001b[0;32m    259\u001b[0m             \u001b[0mself\u001b[0m\u001b[1;33m.\u001b[0m\u001b[0m_arg_loop\u001b[0m \u001b[1;33m=\u001b[0m \u001b[0mbool\u001b[0m\u001b[1;33m(\u001b[0m\u001b[0mloop\u001b[0m\u001b[1;33m)\u001b[0m\u001b[1;33m\u001b[0m\u001b[1;33m\u001b[0m\u001b[0m\n",
      "\u001b[1;32m~\\anaconda3\\lib\\site-packages\\imageio\\plugins\\ffmpeg.py\u001b[0m in \u001b[0;36m_get_ffmpeg_api\u001b[1;34m()\u001b[0m\n\u001b[0;32m     59\u001b[0m             \u001b[1;32mimport\u001b[0m \u001b[0mimageio_ffmpeg\u001b[0m\u001b[1;33m\u001b[0m\u001b[1;33m\u001b[0m\u001b[0m\n\u001b[0;32m     60\u001b[0m         \u001b[1;32mexcept\u001b[0m \u001b[0mImportError\u001b[0m\u001b[1;33m:\u001b[0m\u001b[1;33m\u001b[0m\u001b[1;33m\u001b[0m\u001b[0m\n\u001b[1;32m---> 61\u001b[1;33m             raise ImportError(\n\u001b[0m\u001b[0;32m     62\u001b[0m                 \u001b[1;34m\"To use the imageio ffmpeg plugin you need to \"\u001b[0m\u001b[1;33m\u001b[0m\u001b[1;33m\u001b[0m\u001b[0m\n\u001b[0;32m     63\u001b[0m                 \u001b[1;34m\"'pip install imageio-ffmpeg'\"\u001b[0m\u001b[1;33m\u001b[0m\u001b[1;33m\u001b[0m\u001b[0m\n",
      "\u001b[1;31mImportError\u001b[0m: To use the imageio ffmpeg plugin you need to 'pip install imageio-ffmpeg'"
     ]
    }
   ],
   "source": [
    "# load video using imageio\n",
    "\n",
    "import imageio\n",
    "glottis_video = imageio.mimread(path + \"/glottis_video.mp4\")\n",
    "np.asarray(glottis_video).shape"
   ]
  },
  {
   "cell_type": "code",
   "execution_count": 83,
   "id": "f6f33d32",
   "metadata": {},
   "outputs": [
    {
     "data": {
      "application/vnd.jupyter.widget-view+json": {
       "model_id": "2ea6ea11af774f0e8d8a9aa777e85530",
       "version_major": 2,
       "version_minor": 0
      },
      "text/plain": [
       "interactive(children=(IntSlider(value=5, description='n', max=29), FloatSlider(value=1.0, description='Alpha',…"
      ]
     },
     "metadata": {},
     "output_type": "display_data"
    }
   ],
   "source": [
    "import ipywidgets as widgets\n",
    "\n",
    "alpha_slider = widgets.FloatSlider(\n",
    "    value=1.,\n",
    "    min=0,\n",
    "    max=1.0,\n",
    "    step=0.01,\n",
    "    description='Alpha',\n",
    ")\n",
    "\n",
    "@widgets.interact(n=(0, len(glottis_video)-1))\n",
    "def f(n=5, alpha=alpha_slider):\n",
    "    plt.imshow(glottis_video[n], alpha=alpha)"
   ]
  },
  {
   "cell_type": "code",
   "execution_count": 84,
   "id": "b28ff830",
   "metadata": {},
   "outputs": [
    {
     "data": {
      "image/png": "[encoded data removed]",
      "text/plain": [
       "<Figure size 432x288 with 1 Axes>"
      ]
     },
     "metadata": {
      "needs_background": "light"
     },
     "output_type": "display_data"
    }
   ],
   "source": [
    "# load video frame by frame by creating an iterable reader object\n",
    "\n",
    "vid_reader = imageio.get_reader(path + \"/glottis_video.mp4\",  'ffmpeg')\n",
    "\n",
    "for frame in vid_reader.iter_data():\n",
    "    plt.imshow(frame)\n",
    "    break"
   ]
  },
  {
   "cell_type": "code",
   "execution_count": 85,
   "id": "f89ab1b8",
   "metadata": {},
   "outputs": [
    {
     "data": {
      "text/plain": [
       "{'plugin': 'ffmpeg',\n",
       " 'nframes': inf,\n",
       " 'ffmpeg_version': '4.2.2 built with gcc 9.2.1 (GCC) 20200122',\n",
       " 'codec': 'h264',\n",
       " 'pix_fmt': 'yuv420p',\n",
       " 'fps': 10.0,\n",
       " 'source_size': (256, 512),\n",
       " 'size': (256, 512),\n",
       " 'rotate': 0,\n",
       " 'duration': 3.0}"
      ]
     },
     "execution_count": 85,
     "metadata": {},
     "output_type": "execute_result"
    }
   ],
   "source": [
    "# JSON files\n",
    "metadata = vid_reader.get_meta_data()\n",
    "metadata"
   ]
  },
  {
   "cell_type": "code",
   "execution_count": 86,
   "id": "722360b2",
   "metadata": {},
   "outputs": [],
   "source": [
    "import json\n",
    "\n",
    "with open('video_metadata_example.json', 'w') as f:\n",
    "    json.dump(metadata, f, indent=2)"
   ]
  },
  {
   "cell_type": "code",
   "execution_count": 87,
   "id": "13a20b77",
   "metadata": {},
   "outputs": [
    {
     "data": {
      "text/plain": [
       "{'plugin': 'ffmpeg',\n",
       " 'nframes': inf,\n",
       " 'ffmpeg_version': '4.2.2 built with gcc 9.2.1 (GCC) 20200122',\n",
       " 'codec': 'h264',\n",
       " 'pix_fmt': 'yuv420p',\n",
       " 'fps': 10.0,\n",
       " 'source_size': [256, 512],\n",
       " 'size': [256, 512],\n",
       " 'rotate': 0,\n",
       " 'duration': 3.0}"
      ]
     },
     "execution_count": 87,
     "metadata": {},
     "output_type": "execute_result"
    }
   ],
   "source": [
    "with open('video_metadata_example.json', 'r') as f:\n",
    "    data = json.load(f)\n",
    "data"
   ]
  },
  {
   "cell_type": "code",
   "execution_count": 88,
   "id": "2b0f700b",
   "metadata": {},
   "outputs": [
    {
     "data": {
      "text/plain": [
       "3314783"
      ]
     },
     "execution_count": 88,
     "metadata": {},
     "output_type": "execute_result"
    }
   ],
   "source": [
    "# save videos lossless\n",
    "\n",
    "imageio.mimwrite(\"saved_video.mp4\", \n",
    "                 glottis_video,   # video \n",
    "                 fps=10,          # frames per second\n",
    "                 codec='libx264rgb',   # use the right codec\n",
    "                 pixelformat='rgb24',   # and pixel format\n",
    "                 output_params=['-crf', '0',      # Ensure setting crf to 0\n",
    "                                '-preset', 'veryslow']) # Maximum compression: veryslow, \n",
    "                                                         # maximum speed: ultrafast\n",
    "    \n",
    "# check out file size depending on 'veryslow' or 'ultrafast'\n",
    "os.path.getsize(\"saved_video.mp4\")"
   ]
  },
  {
   "cell_type": "code",
   "execution_count": 89,
   "id": "53b00d94",
   "metadata": {},
   "outputs": [
    {
     "data": {
      "text/plain": [
       "4368088"
      ]
     },
     "execution_count": 89,
     "metadata": {},
     "output_type": "execute_result"
    }
   ],
   "source": [
    "# save videos lossless\n",
    "\n",
    "imageio.mimwrite(\"saved_video.mp4\", \n",
    "                 glottis_video,   # video \n",
    "                 fps=10,          # frames per second\n",
    "                 codec='libx264rgb',   # use the right codec\n",
    "                 pixelformat='rgb24',   # and pixel format\n",
    "                 output_params=['-crf', '0',      # Ensure setting crf to 0\n",
    "                                '-preset', 'ultrafast']) # Maximum compression: veryslow, \n",
    "                                                         # maximum speed: ultrafast\n",
    "    \n",
    "# check out file size depending on 'veryslow' or 'ultrafast'\n",
    "os.path.getsize(\"saved_video.mp4\")"
   ]
  },
  {
   "cell_type": "code",
   "execution_count": 90,
   "id": "b41cfceb",
   "metadata": {},
   "outputs": [
    {
     "data": {
      "text/plain": [
       "True"
      ]
     },
     "execution_count": 90,
     "metadata": {},
     "output_type": "execute_result"
    }
   ],
   "source": [
    "# compare original loaded videeo and the saved video\n",
    "\n",
    "saved_vid = imageio.mimread(\"saved_video.mp4\")\n",
    "np.allclose(glottis_video, saved_vid)"
   ]
  },
  {
   "cell_type": "code",
   "execution_count": 93,
   "id": "cd362d26",
   "metadata": {},
   "outputs": [],
   "source": [
    "# Flammkuchen\n",
    "import flammkuchen as fl\n",
    "\n",
    "d = {\n",
    "    'tabular': pd.DataFrame(np.random.random((20,40))), # random tabular data\n",
    "     'videos': np.random.randint(0, 256, (30, 256, 256, 3)).astype(np.uint8), # random video\n",
    "     'json': dict(name='John Doe', age=32, gender=\"d\") # random meta data\n",
    "}\n",
    "\n",
    "fl.save(\"my_hdf5_file.h5\", d)"
   ]
  },
  {
   "cell_type": "code",
   "execution_count": 94,
   "id": "4089c8ec",
   "metadata": {},
   "outputs": [
    {
     "data": {
      "text/plain": [
       "{'json': DictNode(age=ValueNode(type=<class 'numpy.int32'>), gender=ValueNode(type=<class 'numpy.str_'>), name=ValueNode(type=<class 'numpy.str_'>)),\n",
       " 'tabular': PandasDataFrameNode((40, 20)),\n",
       " 'videos': NumpyArrayNode(shape=(30, 256, 256, 3), dtype=uint8)}"
      ]
     },
     "execution_count": 94,
     "metadata": {},
     "output_type": "execute_result"
    }
   ],
   "source": [
    "fl.meta(\"my_hdf5_file.h5\")"
   ]
  },
  {
   "cell_type": "code",
   "execution_count": 95,
   "id": "1c98b628",
   "metadata": {},
   "outputs": [
    {
     "data": {
      "text/plain": [
       "(30, 256, 256, 3)"
      ]
     },
     "execution_count": 95,
     "metadata": {},
     "output_type": "execute_result"
    }
   ],
   "source": [
    "random_video = fl.load(\"my_hdf5_file.h5\", \"/videos\")\n",
    "random_video.shape"
   ]
  },
  {
   "cell_type": "code",
   "execution_count": 96,
   "id": "27a0c423",
   "metadata": {},
   "outputs": [
    {
     "data": {
      "text/plain": [
       "(5, 256, 256)"
      ]
     },
     "execution_count": 96,
     "metadata": {},
     "output_type": "execute_result"
    }
   ],
   "source": [
    "# And only a portion of the video, e.g. only the red channel of the first 5 frames\n",
    "r_first_5_frames = fl.load(\"my_hdf5_file.h5\", \"/videos\", sel=fl.aslice[:5, ..., 0])\n",
    "r_first_5_frames.shape"
   ]
  },
  {
   "cell_type": "code",
   "execution_count": null,
   "id": "5820da64",
   "metadata": {},
   "outputs": [],
   "source": []
  }
 ],
 "metadata": {
  "kernelspec": {
   "display_name": "Python 3",
   "language": "python",
   "name": "python3"
  },
  "language_info": {
   "codemirror_mode": {
    "name": "ipython",
    "version": 3
   },
   "file_extension": ".py",
   "mimetype": "text/x-python",
   "name": "python",
   "nbconvert_exporter": "python",
   "pygments_lexer": "ipython3",
   "version": "3.8.8"
  }
 },
 "nbformat": 4,
 "nbformat_minor": 5
}
